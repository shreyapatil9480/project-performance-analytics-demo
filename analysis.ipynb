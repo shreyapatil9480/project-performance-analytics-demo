{
 "cells": [
  {
   "cell_type": "markdown",
   "id": "c58d7237",
   "metadata": {},
   "source": [
    "# Project Performance Analysis\n",
    "\n",
    "This notebook explores a synthetic dataset of program and project management metrics. We will perform exploratory data analysis, visualize key distributions, and build predictive models to identify factors associated with project delays."
   ]
  },
  {
   "cell_type": "code",
   "execution_count": null,
   "id": "1610d9dc",
   "metadata": {},
   "outputs": [],
   "source": [
    "import pandas as pd\n",
    "import numpy as np\n",
    "import seaborn as sns\n",
    "import matplotlib.pyplot as plt\n",
    "from sklearn.preprocessing import LabelEncoder\n",
    "from sklearn.model_selection import train_test_split\n",
    "from sklearn.metrics import accuracy_score, classification_report, confusion_matrix\n",
    "from sklearn.ensemble import RandomForestClassifier\n",
    "%matplotlib inline\n",
    "\n",
    "# Increase figure size for better readability\n",
    "plt.rcParams['figure.figsize'] = (10, 6)\n"
   ]
  },
  {
   "cell_type": "markdown",
   "id": "3efa68c1",
   "metadata": {},
   "source": [
    "## Load the dataset"
   ]
  },
  {
   "cell_type": "code",
   "execution_count": null,
   "id": "ff63b907",
   "metadata": {},
   "outputs": [],
   "source": [
    "# Load the synthetic project dataset\n",
    "project_df = pd.read_csv('project_data.csv')\n",
    "\n",
    "# Display the first few rows\n",
    "project_df.head()"
   ]
  },
  {
   "cell_type": "markdown",
   "id": "279d6825",
   "metadata": {},
   "source": [
    "## Summary statistics"
   ]
  },
  {
   "cell_type": "code",
   "execution_count": null,
   "id": "6aa265c3",
   "metadata": {},
   "outputs": [],
   "source": [
    "# Describe the numeric columns\n",
    "project_df.describe()"
   ]
  },
  {
   "cell_type": "markdown",
   "id": "76b7bf10",
   "metadata": {},
   "source": [
    "## Data preprocessing\n",
    "\n",
    "We need to encode the categorical variables and prepare the dataset for modeling."
   ]
  },
  {
   "cell_type": "code",
   "execution_count": null,
   "id": "a1e7fbc4",
   "metadata": {},
   "outputs": [],
   "source": [
    "# Copy dataframe and encode categorical features\n",
    "data_encoded = project_df.copy()\n",
    "\n",
    "# Encode the project_type categorical variable\n",
    "le = LabelEncoder()\n",
    "data_encoded['project_type_encoded'] = le.fit_transform(data_encoded['project_type'])\n",
    "\n",
    "# Encode the status variable as target (1 for delayed, 0 for on time)\n",
    "data_encoded['status_flag'] = data_encoded['status'].apply(lambda x: 1 if x == 'Delayed' else 0)\n",
    "\n",
    "# Drop original categorical columns that won't be used in the model\n",
    "model_df = data_encoded[['planned_duration_days','actual_duration_days','budget_usd','team_size','complexity_level','risk_score','project_type_encoded','status_flag']]\n",
    "\n",
    "model_df.head()"
   ]
  },
  {
   "cell_type": "markdown",
   "id": "f8c16abe",
   "metadata": {},
   "source": [
    "## Exploratory data analysis (EDA)"
   ]
  },
  {
   "cell_type": "code",
   "execution_count": null,
   "id": "90aa105e",
   "metadata": {},
   "outputs": [],
   "source": [
    "# Distribution of project types\n",
    "sns.countplot(x='project_type', data=project_df)\n",
    "plt.title('Project Type Distribution')\n",
    "plt.xlabel('Project Type')\n",
    "plt.ylabel('Count')\n",
    "plt.xticks(rotation=45)\n",
    "plt.tight_layout()"
   ]
  },
  {
   "cell_type": "code",
   "execution_count": null,
   "id": "c34a7251",
   "metadata": {},
   "outputs": [],
   "source": [
    "# Histogram of budget\n",
    "plt.hist(project_df['budget_usd'], bins=30, color='skyblue', edgecolor='black')\n",
    "plt.title('Budget Distribution')\n",
    "plt.xlabel('Budget (USD)')\n",
    "plt.ylabel('Frequency')\n",
    "plt.tight_layout()"
   ]
  },
  {
   "cell_type": "code",
   "execution_count": null,
   "id": "4d8d1700",
   "metadata": {},
   "outputs": [],
   "source": [
    "# Correlation matrix\n",
    "correlation = model_df.drop(columns='status_flag').corr()\n",
    "sns.heatmap(correlation, annot=True, cmap='coolwarm', fmt='.2f')\n",
    "plt.title('Correlation Matrix')\n",
    "plt.tight_layout()"
   ]
  },
  {
   "cell_type": "markdown",
   "id": "352427f9",
   "metadata": {},
   "source": [
    "## Predictive modeling\n",
    "\n",
    "We will train a Random Forest classifier to predict whether a project is delayed based on project characteristics."
   ]
  },
  {
   "cell_type": "code",
   "execution_count": null,
   "id": "2a60cd8e",
   "metadata": {},
   "outputs": [],
   "source": [
    "# Define features and target\n",
    "X = model_df.drop('status_flag', axis=1)\n",
    "y = model_df['status_flag']\n",
    "\n",
    "# Train-test split\n",
    "X_train, X_test, y_train, y_test = train_test_split(X, y, test_size=0.3, random_state=42)\n",
    "\n",
    "# Train Random Forest classifier\n",
    "rf_model = RandomForestClassifier(n_estimators=100, random_state=42)\n",
    "rf_model.fit(X_train, y_train)\n",
    "\n",
    "# Predictions\n",
    "y_pred = rf_model.predict(X_test)\n",
    "\n",
    "# Evaluate model\n",
    "acc = accuracy_score(y_test, y_pred)\n",
    "report = classification_report(y_test, y_pred, target_names=['On Time', 'Delayed'])\n",
    "conf_matrix = confusion_matrix(y_test, y_pred)\n",
    "\n",
    "print(f'Accuracy: {acc:.2f}')\n",
    "print('Classification Report:\n",
    "', report)\n",
    "print('Confusion Matrix:\n",
    "', conf_matrix)"
   ]
  },
  {
   "cell_type": "code",
   "execution_count": null,
   "id": "196299b6",
   "metadata": {},
   "outputs": [],
   "source": [
    "# Feature importance\n",
    "importances = pd.Series(rf_model.feature_importances_, index=X.columns).sort_values(ascending=False)\n",
    "\n",
    "# Plot feature importances\n",
    "importances.plot(kind='bar')\n",
    "plt.title('Feature Importance')\n",
    "plt.ylabel('Importance Score')\n",
    "plt.xlabel('Features')\n",
    "plt.tight_layout()"
   ]
  },
  {
   "cell_type": "markdown",
   "id": "e8f772df",
   "metadata": {},
   "source": [
    "## Conclusion\n",
    "\n",
    "This notebook demonstrated how to perform exploratory data analysis and build a predictive model on a synthetic project management dataset. The random forest model provides insights into which factors contribute most to project delays, highlighting the importance of duration differences and risk scores. This workflow showcases skills in data wrangling, visualization, and machine learning modeling relevant to business analysis and program management roles."
   ]
  }
 ],
 "metadata": {},
 "nbformat": 4,
 "nbformat_minor": 5
}
